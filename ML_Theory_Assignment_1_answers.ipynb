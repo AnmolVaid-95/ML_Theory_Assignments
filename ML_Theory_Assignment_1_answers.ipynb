{
 "cells": [
  {
   "cell_type": "markdown",
   "id": "fc768f52",
   "metadata": {},
   "source": [
    "1. What does one mean by the term \"machine learning\"?\n",
    "\n",
    "2.Can you think of 4 distinct types of issues where it shines?\n",
    "\n",
    "\n",
    "\n",
    "3.What is a labeled training set, and how does it work?\n",
    "\n",
    "\n",
    "\n",
    "4.What are the two most important tasks that are supervised?\n",
    "\n",
    "\n",
    "\n",
    "5.Can you think of four examples of unsupervised tasks?\n",
    "\n",
    "\n",
    "\n",
    "6.State the machine learning model that would be best to make a robot walk through various unfamiliar terrains?\n",
    "\n",
    "\n",
    "\n",
    "7.Which algorithm will you use to divide your customers into different groups?\n",
    "\n",
    "\n",
    "\n",
    "8.Will you consider the problem of spam detection to be a supervised or unsupervised learning problem?\n",
    "\n",
    "\n",
    "\n",
    "9.What is the concept of an online learning system?\n",
    "\n",
    "\n",
    "\n",
    "10.What is out-of-core learning, and how does it differ from core learning?\n",
    "\n",
    "\n",
    "\n",
    "11.What kind of learning algorithm makes predictions using a similarity measure?\n",
    "\n",
    "\n",
    "\n",
    "12.What's the difference between a model parameter and a hyperparameter in a learning algorithm?\n",
    "\n",
    "\n",
    "\n",
    "13.What are the criteria that model-based learning algorithms look for? What is the most popular method they use to achieve success? What method do they use to make predictions?\n",
    "\n",
    "\n",
    "\n",
    "14.Can you name four of the most important Machine Learning challenges?\n",
    "\n",
    "\n",
    "\n",
    "15.What happens if the model performs well on the training data but fails to generalize the results to new situations? Can you think of three different options?\n",
    "\n",
    "\n",
    "\n",
    "16.What exactly is a test set, and why would you need one?\n",
    "\n",
    "\n",
    "\n",
    "17.What is a validation set's purpose?\n",
    "\n",
    "\n",
    "\n",
    "18.What precisely is the train-dev kit, when will you need it, how do you put it to use?\n",
    "\n",
    "\n",
    "\n",
    "19.What could go wrong if you use the test set to tune hyperparameters?\n"
   ]
  },
  {
   "cell_type": "markdown",
   "id": "9e92838b",
   "metadata": {},
   "source": [
    "1. What does one mean by the term \"machine learning\"?"
   ]
  },
  {
   "cell_type": "markdown",
   "id": "590dfb78",
   "metadata": {},
   "source": [
    "Ans. Machine learning (ML) is the process of using mathematical models of data to help a computer learn without direct instruction. It’s considered a subset of artificial intelligence (AI). Machine learning uses algorithms to identify patterns within data and those patterns are then used to create a data model that can make predictions."
   ]
  },
  {
   "cell_type": "code",
   "execution_count": null,
   "id": "f1e534db",
   "metadata": {},
   "outputs": [],
   "source": []
  },
  {
   "cell_type": "markdown",
   "id": "434695ee",
   "metadata": {},
   "source": [
    "2.Can you think of 4 distinct types of issues where it shines?"
   ]
  },
  {
   "cell_type": "markdown",
   "id": "3f67503c",
   "metadata": {},
   "source": [
    "Ans. Machine learning is great for problems whose solution requires a great deal of work or a long list of rules, complex problems that are hard to get a solution of using a traditional method, fluctuating environments and getting insights about complex problems and large data."
   ]
  },
  {
   "cell_type": "code",
   "execution_count": null,
   "id": "d70fc008",
   "metadata": {},
   "outputs": [],
   "source": []
  },
  {
   "cell_type": "markdown",
   "id": "290bb977",
   "metadata": {},
   "source": [
    "3.What is a labeled training set, and how does it work?"
   ]
  },
  {
   "cell_type": "markdown",
   "id": "6a32254b",
   "metadata": {},
   "source": [
    "Ans. Labeled training set is a set of training data which has a solution to the problem or task. It can be also named as y column in some cases."
   ]
  },
  {
   "cell_type": "code",
   "execution_count": null,
   "id": "ee62ae60",
   "metadata": {},
   "outputs": [],
   "source": []
  },
  {
   "cell_type": "markdown",
   "id": "63e90feb",
   "metadata": {},
   "source": [
    "4.What are the two most important tasks that are supervised?"
   ]
  },
  {
   "cell_type": "markdown",
   "id": "b6201a1a",
   "metadata": {},
   "source": [
    "Ans. Two most common supervised tasks:\n",
    "    \n",
    "1. Classification  \n",
    "\n",
    "2. Regression."
   ]
  },
  {
   "cell_type": "code",
   "execution_count": null,
   "id": "a3c0566e",
   "metadata": {},
   "outputs": [],
   "source": []
  },
  {
   "cell_type": "markdown",
   "id": "25366b18",
   "metadata": {},
   "source": [
    "5.Can you think of four examples of unsupervised tasks?"
   ]
  },
  {
   "cell_type": "markdown",
   "id": "9a7cd7e8",
   "metadata": {},
   "source": [
    "Ans. Four common unsupervised tasks inclused clustering, visualization, dimensionality reduction , and association rule learning."
   ]
  },
  {
   "cell_type": "code",
   "execution_count": null,
   "id": "68e3a829",
   "metadata": {},
   "outputs": [],
   "source": []
  },
  {
   "cell_type": "markdown",
   "id": "0cfaafb2",
   "metadata": {},
   "source": [
    "6.State the machine learning model that would be best to make a robot walk through various unfamiliar terrains?"
   ]
  },
  {
   "cell_type": "markdown",
   "id": "04ed8ae5",
   "metadata": {},
   "source": [
    "Ans. The best Machine Learning algorithm to allow a robot to walk in unknown terrain is Reinforced Learning, where the robot can learn from response of the terrain to optimize itself."
   ]
  },
  {
   "cell_type": "code",
   "execution_count": null,
   "id": "f79a3b3b",
   "metadata": {},
   "outputs": [],
   "source": []
  },
  {
   "cell_type": "markdown",
   "id": "612fede7",
   "metadata": {},
   "source": [
    "7.Which algorithm will you use to divide your customers into different groups?"
   ]
  },
  {
   "cell_type": "markdown",
   "id": "3582c36d",
   "metadata": {},
   "source": [
    "Ans. The best algorithm to segment customers into multiple groups is either supervised learning (if the groups have known labels) or unsupervised learning (if there are no group labels). One algo name is Clustering."
   ]
  },
  {
   "cell_type": "code",
   "execution_count": null,
   "id": "12d71d97",
   "metadata": {},
   "outputs": [],
   "source": []
  },
  {
   "cell_type": "markdown",
   "id": "0496cff9",
   "metadata": {},
   "source": [
    "8. Will you consider the problem of spam detection to be a supervised or unsupervised learning problem?"
   ]
  },
  {
   "cell_type": "markdown",
   "id": "b685034e",
   "metadata": {},
   "source": [
    "Ans. Spam detection is a supervised learning problem because the labels are known (spam or no spam)."
   ]
  },
  {
   "cell_type": "code",
   "execution_count": null,
   "id": "b20b4128",
   "metadata": {},
   "outputs": [],
   "source": []
  },
  {
   "cell_type": "markdown",
   "id": "559e6a9b",
   "metadata": {},
   "source": [
    "9. What is the concept of an online learning system?"
   ]
  },
  {
   "cell_type": "markdown",
   "id": "f98202da",
   "metadata": {},
   "source": [
    "Ans. Online learning system is a learning system in which the machine learns as data is given in small streams continuously.`"
   ]
  },
  {
   "cell_type": "code",
   "execution_count": null,
   "id": "b291c7d0",
   "metadata": {},
   "outputs": [],
   "source": []
  },
  {
   "cell_type": "markdown",
   "id": "ce120b62",
   "metadata": {},
   "source": [
    "10. What is out-of-core learning, and how does it differ from core learning?"
   ]
  },
  {
   "cell_type": "markdown",
   "id": "63b89f1c",
   "metadata": {},
   "source": [
    "Ans. Out-of-core learning system is a system that can handle data that cannot fit into your computer memory. It uses online learning system to feed data in small bits."
   ]
  },
  {
   "cell_type": "code",
   "execution_count": null,
   "id": "ab5a76cb",
   "metadata": {},
   "outputs": [],
   "source": []
  },
  {
   "cell_type": "markdown",
   "id": "178aac8b",
   "metadata": {},
   "source": [
    "11. What kind of learning algorithm makes predictions using a similarity measure?"
   ]
  },
  {
   "cell_type": "markdown",
   "id": "63abafa2",
   "metadata": {},
   "source": [
    "Ans. Learning algorithm that relies on a similarity measure to make predictions is instance-based algorithm."
   ]
  },
  {
   "cell_type": "code",
   "execution_count": null,
   "id": "efa6edbe",
   "metadata": {},
   "outputs": [],
   "source": []
  },
  {
   "cell_type": "markdown",
   "id": "1c0b1c65",
   "metadata": {},
   "source": [
    "12. What's the difference between a model parameter and a hyperparameter in a learning algorithm?"
   ]
  },
  {
   "cell_type": "markdown",
   "id": "77756bd0",
   "metadata": {},
   "source": [
    "Ans. Model parameter determines how a model will predict given a new instance; model usually has more than one parameter (i.e. slope of a linear model). Hyperparameter is a parameter for the learning algorithm, not of a model.  "
   ]
  },
  {
   "cell_type": "code",
   "execution_count": null,
   "id": "1aafacf4",
   "metadata": {},
   "outputs": [],
   "source": []
  },
  {
   "cell_type": "markdown",
   "id": "fa7f58ab",
   "metadata": {},
   "source": [
    "13. What are the criteria that model-based learning algorithms look for? What is the most popular method they use to achieve success? What method do they use to make predictions?"
   ]
  },
  {
   "cell_type": "markdown",
   "id": "f5da9b88",
   "metadata": {},
   "source": [
    "Ans. Model based learning algorithm search for the optimal value of parameters in a model that will give the best results for the new instances. We often use a cost function or similar to determine what the parameter value has to be in order to minimize the function. The model makes prediction by using the value of the new instance and the parameters in its function."
   ]
  },
  {
   "cell_type": "code",
   "execution_count": null,
   "id": "1142c146",
   "metadata": {},
   "outputs": [],
   "source": []
  },
  {
   "cell_type": "markdown",
   "id": "686f25b2",
   "metadata": {},
   "source": [
    "14. Can you name four of the most important Machine Learning challenges?"
   ]
  },
  {
   "cell_type": "markdown",
   "id": "6adc302f",
   "metadata": {},
   "source": [
    "Ans. Four main challenges in Machine Learning include overfitting the data (using a model too complicated), underfitting the data (using a simple model), lacking in data and nonrepresentative data."
   ]
  },
  {
   "cell_type": "code",
   "execution_count": null,
   "id": "3762de4f",
   "metadata": {},
   "outputs": [],
   "source": []
  },
  {
   "cell_type": "markdown",
   "id": "a059380c",
   "metadata": {},
   "source": [
    "15. What happens if the model performs well on the training data but fails to generalize the results to new situations? Can you think of three different options?"
   ]
  },
  {
   "cell_type": "markdown",
   "id": "3b30f12a",
   "metadata": {},
   "source": [
    "Ans. If the model performs poorly to new instances, then it has overfit on the training data. To solve this, we can do any of the following three: get more data, implement a simpler model, or eliminate outliers or noise from the existing data set."
   ]
  },
  {
   "cell_type": "code",
   "execution_count": null,
   "id": "c8f4c91e",
   "metadata": {},
   "outputs": [],
   "source": []
  },
  {
   "cell_type": "markdown",
   "id": "4a0596fc",
   "metadata": {},
   "source": [
    "16. What exactly is a test set, and why would you need one?"
   ]
  },
  {
   "cell_type": "markdown",
   "id": "70c38b8c",
   "metadata": {},
   "source": [
    "Ans. Test set is a set that you test your model (fit using training data) to see how it performs. Test set is necessary so that you can determine how good (or bad) your model performs."
   ]
  },
  {
   "cell_type": "code",
   "execution_count": null,
   "id": "74478d78",
   "metadata": {},
   "outputs": [],
   "source": []
  },
  {
   "cell_type": "markdown",
   "id": "4fd166dd",
   "metadata": {},
   "source": [
    "17. What is a validation set's purpose?"
   ]
  },
  {
   "cell_type": "markdown",
   "id": "5f23392d",
   "metadata": {},
   "source": [
    "Ans. Validation set is a set used to compare between different training models."
   ]
  },
  {
   "cell_type": "code",
   "execution_count": null,
   "id": "08bd1d07",
   "metadata": {},
   "outputs": [],
   "source": []
  },
  {
   "cell_type": "markdown",
   "id": "7f62936d",
   "metadata": {},
   "source": [
    "18. What precisely is the train-dev kit, when will you need it, how do you put it to use?"
   ]
  },
  {
   "cell_type": "markdown",
   "id": "f8de12f1",
   "metadata": {},
   "source": [
    "Ans. If you tune hyperparameters using the test sets, then it may not perform well on the out-of-sample data because the model is tuned just for that specific set."
   ]
  },
  {
   "cell_type": "code",
   "execution_count": null,
   "id": "da346b29",
   "metadata": {},
   "outputs": [],
   "source": []
  },
  {
   "cell_type": "markdown",
   "id": "f1de4b63",
   "metadata": {},
   "source": [
    "19. What could go wrong if you use the test set to tune hyperparameters?"
   ]
  },
  {
   "cell_type": "markdown",
   "id": "b392d8d3",
   "metadata": {},
   "source": [
    "Ans. Cross-validation is a tool to compare models without needing a separate validation set. It is preferred over validation set because we can save from breaking of part of the training set to create a validation set, as having more data is valuable regardless."
   ]
  },
  {
   "cell_type": "code",
   "execution_count": null,
   "id": "7893e0dc",
   "metadata": {},
   "outputs": [],
   "source": []
  }
 ],
 "metadata": {
  "kernelspec": {
   "display_name": "Python 3",
   "language": "python",
   "name": "python3"
  },
  "language_info": {
   "codemirror_mode": {
    "name": "ipython",
    "version": 3
   },
   "file_extension": ".py",
   "mimetype": "text/x-python",
   "name": "python",
   "nbconvert_exporter": "python",
   "pygments_lexer": "ipython3",
   "version": "3.8.8"
  }
 },
 "nbformat": 4,
 "nbformat_minor": 5
}
